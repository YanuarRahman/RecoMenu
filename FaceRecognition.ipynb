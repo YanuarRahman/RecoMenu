{
  "nbformat": 4,
  "nbformat_minor": 0,
  "metadata": {
    "colab": {
      "provenance": []
    },
    "kernelspec": {
      "name": "python3",
      "display_name": "Python 3"
    },
    "language_info": {
      "name": "python"
    }
  },
  "cells": [
    {
      "cell_type": "code",
      "execution_count": null,
      "metadata": {
        "id": "mVyYd2C8sltZ"
      },
      "outputs": [],
      "source": [
        "! chmod 600 /content/kaggle.json"
      ]
    },
    {
      "cell_type": "code",
      "source": [
        "! KAGGLE_CONFIG_DIR=/content/ kaggle datasets download -d chinoysen/face-recognition-data "
      ],
      "metadata": {
        "colab": {
          "base_uri": "https://localhost:8080/"
        },
        "id": "I3fGIDEgs7JE",
        "outputId": "95e25a50-2dc4-42a9-cd23-ea8eeb25791c"
      },
      "execution_count": null,
      "outputs": [
        {
          "output_type": "stream",
          "name": "stdout",
          "text": [
            "face-recognition-data.zip: Skipping, found more recently modified local copy (use --force to force download)\n"
          ]
        }
      ]
    },
    {
      "cell_type": "code",
      "source": [
        "import zipfile\n",
        "zip_file = zipfile.ZipFile('/content/face-recognition-data.zip')\n",
        "zip_file.extractall()"
      ],
      "metadata": {
        "id": "-N1stk0utVcQ"
      },
      "execution_count": null,
      "outputs": []
    },
    {
      "cell_type": "code",
      "source": [],
      "metadata": {
        "id": "dObkqjNhyejw"
      },
      "execution_count": null,
      "outputs": []
    },
    {
      "cell_type": "code",
      "source": [
        "\n",
        "train_folder = '/content/Image_Train-20220909T071110Z-001/Image_Train'\n",
        "test_folder = '/content/Image_Test-20220909T071021Z-001/Image_Test'\n"
      ],
      "metadata": {
        "id": "L-6rt53w01mh"
      },
      "execution_count": null,
      "outputs": []
    },
    {
      "cell_type": "code",
      "source": [
        "from keras.preprocessing.image import ImageDataGenerator"
      ],
      "metadata": {
        "id": "WbVlZF-N2Q53"
      },
      "execution_count": null,
      "outputs": []
    },
    {
      "cell_type": "code",
      "source": [
        "train_datagen=ImageDataGenerator(rescale=1./255,\n",
        "      rotation_range=40,\n",
        "      width_shift_range=0.2,\n",
        "      height_shift_range=0.2,\n",
        "      shear_range=0.2,\n",
        "      zoom_range=0.2,\n",
        "      horizontal_flip=True,\n",
        "      fill_mode='nearest')\n",
        "test_datagen=ImageDataGenerator(rescale=1./225)"
      ],
      "metadata": {
        "id": "E2tGRECn49b2"
      },
      "execution_count": null,
      "outputs": []
    },
    {
      "cell_type": "code",
      "source": [
        "training_set = train_datagen.flow_from_directory(train_folder,\n",
        "                                                 target_size=(64, 64),\n",
        "                                                 batch_size=20,\n",
        "                                                 class_mode='categorical')"
      ],
      "metadata": {
        "colab": {
          "base_uri": "https://localhost:8080/"
        },
        "id": "pHPFnHI15CpL",
        "outputId": "22877674-f76f-43fc-d571-96c12cbd7c9e"
      },
      "execution_count": null,
      "outputs": [
        {
          "output_type": "stream",
          "name": "stdout",
          "text": [
            "Found 224 images belonging to 16 classes.\n"
          ]
        }
      ]
    },
    {
      "cell_type": "code",
      "source": [
        "validation_set = test_datagen.flow_from_directory(test_folder,\n",
        "                                                  target_size=(64, 64),\n",
        "                                                  batch_size=20,\n",
        "                                                  class_mode='categorical')"
      ],
      "metadata": {
        "colab": {
          "base_uri": "https://localhost:8080/"
        },
        "id": "6l_diVHi5NEK",
        "outputId": "54f4a327-193c-45fd-fe0d-ee796c76e32f"
      },
      "execution_count": null,
      "outputs": [
        {
          "output_type": "stream",
          "name": "stdout",
          "text": [
            "Found 96 images belonging to 16 classes.\n"
          ]
        }
      ]
    },
    {
      "cell_type": "code",
      "source": [
        "import tensorflow as tf\n",
        "from keras.models import Sequential\n",
        "from keras.layers import Convolution2D\n",
        "from keras.layers import MaxPool2D\n",
        "from keras.layers import Flatten\n",
        "from keras.layers import Dense"
      ],
      "metadata": {
        "id": "qYAYu9C_5d6M"
      },
      "execution_count": null,
      "outputs": []
    },
    {
      "cell_type": "code",
      "source": [
        "model = tf.keras.models.Sequential([\n",
        "    # Note the input shape is the desired size of the image 300x300 with 3 bytes color\n",
        "    # This is the first convolution\n",
        "    tf.keras.layers.Conv2D(32, (3,3), activation='relu', input_shape=(64, 64, 3)),\n",
        "    tf.keras.layers.MaxPooling2D(2, 2),\n",
        "    # The second convolution\n",
        "    tf.keras.layers.Conv2D(64, (3,3), activation='relu'),\n",
        "    tf.keras.layers.MaxPooling2D(2,2),\n",
        "    # The third convolution\n",
        "    tf.keras.layers.Conv2D(64, (3,3), activation='relu'),\n",
        "    tf.keras.layers.MaxPooling2D(2,2),\n",
        "    # Flatten the results to feed into a DNN\n",
        "    tf.keras.layers.Flatten(),\n",
        "    # 512 neuron hidden layer\n",
        "    tf.keras.layers.Dense(64, activation='relu'),\n",
        "    # Only 1 output neuron. It will contain a value from 0-1 where 0 for 1 class ('horses') and 1 for the other ('humans')\n",
        "    tf.keras.layers.Dense(16, activation='softmax')\n",
        "])"
      ],
      "metadata": {
        "id": "IAqq8Y0y5kk3"
      },
      "execution_count": null,
      "outputs": []
    },
    {
      "cell_type": "code",
      "source": [
        "# Set training parameters\n",
        "model.compile(loss='categorical_crossentropy',\n",
        "              optimizer='adam',\n",
        "              metrics=['accuracy'])"
      ],
      "metadata": {
        "id": "z4pjT4et50Bm"
      },
      "execution_count": null,
      "outputs": []
    },
    {
      "cell_type": "code",
      "source": [
        "history = model.fit(training_set, epochs=25, validation_data = validation_set, verbose = 1, validation_steps=3)"
      ],
      "metadata": {
        "colab": {
          "base_uri": "https://localhost:8080/"
        },
        "id": "MPVVk9E16Fvp",
        "outputId": "ec91a883-1df2-40dd-91f7-548030dd02a8"
      },
      "execution_count": null,
      "outputs": [
        {
          "output_type": "stream",
          "name": "stdout",
          "text": [
            "Epoch 1/25\n",
            "12/12 [==============================] - 26s 2s/step - loss: 2.0077 - accuracy: 0.3080 - val_loss: 2.2103 - val_accuracy: 0.3333\n",
            "Epoch 2/25\n",
            "12/12 [==============================] - 24s 2s/step - loss: 1.9095 - accuracy: 0.3616 - val_loss: 2.5440 - val_accuracy: 0.3333\n",
            "Epoch 3/25\n",
            "12/12 [==============================] - 23s 2s/step - loss: 1.9002 - accuracy: 0.3750 - val_loss: 2.6438 - val_accuracy: 0.3333\n",
            "Epoch 4/25\n",
            "12/12 [==============================] - 25s 2s/step - loss: 1.8693 - accuracy: 0.3929 - val_loss: 2.2712 - val_accuracy: 0.4000\n",
            "Epoch 5/25\n",
            "12/12 [==============================] - 27s 2s/step - loss: 1.8336 - accuracy: 0.3973 - val_loss: 2.2106 - val_accuracy: 0.3000\n",
            "Epoch 6/25\n",
            "12/12 [==============================] - 24s 2s/step - loss: 1.9166 - accuracy: 0.3527 - val_loss: 2.2473 - val_accuracy: 0.3000\n",
            "Epoch 7/25\n",
            "12/12 [==============================] - 23s 2s/step - loss: 1.8587 - accuracy: 0.4018 - val_loss: 2.0464 - val_accuracy: 0.3500\n",
            "Epoch 8/25\n",
            "12/12 [==============================] - 24s 2s/step - loss: 1.7653 - accuracy: 0.3884 - val_loss: 2.5818 - val_accuracy: 0.3000\n",
            "Epoch 9/25\n",
            "12/12 [==============================] - 24s 2s/step - loss: 1.7883 - accuracy: 0.3884 - val_loss: 2.6417 - val_accuracy: 0.2667\n",
            "Epoch 10/25\n",
            "12/12 [==============================] - 22s 2s/step - loss: 1.7144 - accuracy: 0.4420 - val_loss: 3.3720 - val_accuracy: 0.2333\n",
            "Epoch 11/25\n",
            "12/12 [==============================] - 23s 2s/step - loss: 1.7451 - accuracy: 0.4152 - val_loss: 2.4398 - val_accuracy: 0.3833\n",
            "Epoch 12/25\n",
            "12/12 [==============================] - 23s 2s/step - loss: 1.6545 - accuracy: 0.5045 - val_loss: 2.2177 - val_accuracy: 0.3833\n",
            "Epoch 13/25\n",
            "12/12 [==============================] - 23s 2s/step - loss: 1.5334 - accuracy: 0.4821 - val_loss: 2.0197 - val_accuracy: 0.4667\n",
            "Epoch 14/25\n",
            "12/12 [==============================] - 24s 2s/step - loss: 1.6461 - accuracy: 0.4420 - val_loss: 2.2728 - val_accuracy: 0.4333\n",
            "Epoch 15/25\n",
            "12/12 [==============================] - 24s 2s/step - loss: 1.6929 - accuracy: 0.4107 - val_loss: 2.2474 - val_accuracy: 0.4000\n",
            "Epoch 16/25\n",
            "12/12 [==============================] - 23s 2s/step - loss: 1.6548 - accuracy: 0.4375 - val_loss: 1.9731 - val_accuracy: 0.4000\n",
            "Epoch 17/25\n",
            "12/12 [==============================] - 24s 2s/step - loss: 1.7421 - accuracy: 0.4330 - val_loss: 2.0710 - val_accuracy: 0.4667\n",
            "Epoch 18/25\n",
            "12/12 [==============================] - 23s 2s/step - loss: 1.5633 - accuracy: 0.4464 - val_loss: 2.4785 - val_accuracy: 0.3667\n",
            "Epoch 19/25\n",
            "12/12 [==============================] - 23s 2s/step - loss: 1.5463 - accuracy: 0.4955 - val_loss: 3.4773 - val_accuracy: 0.2667\n",
            "Epoch 20/25\n",
            "12/12 [==============================] - 24s 2s/step - loss: 1.6496 - accuracy: 0.4643 - val_loss: 2.4561 - val_accuracy: 0.4000\n",
            "Epoch 21/25\n",
            "12/12 [==============================] - 24s 2s/step - loss: 1.6526 - accuracy: 0.4464 - val_loss: 2.2933 - val_accuracy: 0.4000\n",
            "Epoch 22/25\n",
            "12/12 [==============================] - 23s 2s/step - loss: 1.5150 - accuracy: 0.4911 - val_loss: 1.5891 - val_accuracy: 0.5167\n",
            "Epoch 23/25\n",
            "12/12 [==============================] - 23s 2s/step - loss: 1.4631 - accuracy: 0.5179 - val_loss: 2.1130 - val_accuracy: 0.4500\n",
            "Epoch 24/25\n",
            "12/12 [==============================] - 23s 2s/step - loss: 1.3940 - accuracy: 0.5491 - val_loss: 1.8961 - val_accuracy: 0.4500\n",
            "Epoch 25/25\n",
            "12/12 [==============================] - 23s 2s/step - loss: 1.3437 - accuracy: 0.5179 - val_loss: 1.9062 - val_accuracy: 0.4333\n"
          ]
        }
      ]
    },
    {
      "cell_type": "code",
      "source": [
        "import matplotlib.pyplot as plt\n",
        "\n",
        "# Plot the results\n",
        "acc = history.history['accuracy']\n",
        "val_acc = history.history['val_accuracy']\n",
        "loss = history.history['loss']\n",
        "val_loss = history.history['val_loss']\n",
        "\n",
        "epochs = range(len(acc))\n",
        "\n",
        "plt.plot(epochs, acc, 'r', label='Training accuracy')\n",
        "plt.plot(epochs, val_acc, 'b', label='Validation accuracy')\n",
        "plt.title('Training and validation accuracy')\n",
        "plt.legend(loc=0)\n",
        "plt.figure()\n",
        "\n",
        "plt.show()"
      ],
      "metadata": {
        "colab": {
          "base_uri": "https://localhost:8080/",
          "height": 470
        },
        "id": "GIfKt3K-D1TQ",
        "outputId": "9f03a4b3-cf02-4cc4-944a-d8b81d2a016e"
      },
      "execution_count": null,
      "outputs": [
        {
          "output_type": "display_data",
          "data": {
            "text/plain": [
              "<Figure size 640x480 with 1 Axes>"
            ],
            "image/png": "[encoded data removed]"
          },
          "metadata": {}
        },
        {
          "output_type": "display_data",
          "data": {
            "text/plain": [
              "<Figure size 640x480 with 0 Axes>"
            ]
          },
          "metadata": {}
        }
      ]
    },
    {
      "cell_type": "code",
      "source": [],
      "metadata": {
        "id": "7E3kxeXID4oT"
      },
      "execution_count": null,
      "outputs": []
    }
  ]
}